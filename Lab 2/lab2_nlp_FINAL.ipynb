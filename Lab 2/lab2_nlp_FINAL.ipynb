{
 "cells": [
  {
   "cell_type": "markdown",
   "id": "fb774609",
   "metadata": {},
   "source": [
    "# 1. Summarize the paper on BPE"
   ]
  },
  {
   "cell_type": "markdown",
   "id": "cc9df454-71d4-4b34-bbe4-bfef0ca2f9d9",
   "metadata": {},
   "source": [
    "Byte pair encoding is an algorithm for word segmentation, allowing for the representation of an open vocabulary through a fixed-size vocabulary of variable length. It's a versatile model utilized for many word segmentation strategies.\n",
    "From the conclusion, , they were able to show that their variant of BPE that is capable of encoding open vocabs with a compact vocab filled with subwords.\n",
    "BPE is a data comrpession technique that iteratively replaces the most frequenct pair of bytes in a sequence with a single, unused byte. (merging characters)\n",
    "To learn the BPE operations, an example was given on learned BPE operations utilizing the following 4 words.\n",
    "\n",
    "* low\n",
    "* lower\n",
    "* newest\n",
    "* widest\n",
    "\n",
    "Looking at lower, it would segment into low-er. \n",
    "After BPE merging operations, new words learned are\n",
    "\n",
    "* low\n",
    "* lowest\n",
    "* newer\n",
    "* wider\n",
    "\n",
    "Research questions are as follows, can they improve translation of rare and unseen words by representing them in subword units?\n",
    "\n",
    "Experimentals utilize a training set for translation from English -> German and English -> russian from WMT 2015. They compared BPE performance versus baseline methods.\n",
    "\n",
    "Metrics they utilized were BLEU, CHRF3, and unigram F1\n",
    "\n",
    "At the end of their evaluation, BPE met their goal of being an open vocabulary to obtain segmentation with no unknown symbols. Subword models improve over the baseline model, especially in the case for rare and unknown words as showcased from the figures in the paper"
   ]
  },
  {
   "cell_type": "markdown",
   "id": "c6573876",
   "metadata": {},
   "source": [
    "# 2. In regular expressions, what does \\d, \\D, \\w, \\W, \\s, \\S, {n}, {n,m}, {n,}, {,m} mean?"
   ]
  },
  {
   "cell_type": "markdown",
   "id": "9f700fd4-e49e-4122-858f-fd8c43c23181",
   "metadata": {},
   "source": [
    "* \\d - any digit\n",
    "* \\D - any non digit\n",
    "* \\w - any alphanumeric/underscore\n",
    "* \\W - a non alphanumeric\n",
    "* \\s - whitespace (space or tab)\n",
    "* \\S - non white space\n",
    "* {n} - exactly n occurences of previous character or expression\n",
    "* {n,m} - from n to m occurences of previous character or expression\n",
    "* {n,} - at least n occurences of previous character or expression\n",
    "* {,m} at most m occurences of previous character or expression"
   ]
  },
  {
   "cell_type": "markdown",
   "id": "88c32fd1",
   "metadata": {},
   "source": [
    "# 3. Create a Python based tokenizer in NLTK that replaces contractions (I’m, You’re, didn’t) into the expanded forms (I am, You are, did not).\n",
    "\n",
    "In this tokenizer, you can split words by spaces (' \\t\\n').\n"
   ]
  },
  {
   "cell_type": "code",
   "execution_count": 1,
   "id": "8e25390c-2157-43d4-abca-2b4037f113e5",
   "metadata": {
    "collapsed": true,
    "jupyter": {
     "outputs_hidden": true
    },
    "tags": []
   },
   "outputs": [
    {
     "name": "stdout",
     "output_type": "stream",
     "text": [
      "Collecting contractions\n",
      "  Obtaining dependency information for contractions from https://files.pythonhosted.org/packages/bb/e4/725241b788963b460ce0118bfd5c505dd3d1bdd020ee740f9f39044ed4a7/contractions-0.1.73-py2.py3-none-any.whl.metadata\n",
      "  Downloading contractions-0.1.73-py2.py3-none-any.whl.metadata (1.2 kB)\n",
      "Collecting textsearch>=0.0.21 (from contractions)\n",
      "  Obtaining dependency information for textsearch>=0.0.21 from https://files.pythonhosted.org/packages/e2/0f/6f08dd89e9d71380a369b1f5b6c97a32d62fc9cfacc1c5b8329505b9e495/textsearch-0.0.24-py2.py3-none-any.whl.metadata\n",
      "  Downloading textsearch-0.0.24-py2.py3-none-any.whl.metadata (1.2 kB)\n",
      "Collecting anyascii (from textsearch>=0.0.21->contractions)\n",
      "  Obtaining dependency information for anyascii from https://files.pythonhosted.org/packages/4f/7b/a9a747e0632271d855da379532b05a62c58e979813814a57fa3b3afeb3a4/anyascii-0.3.2-py3-none-any.whl.metadata\n",
      "  Downloading anyascii-0.3.2-py3-none-any.whl.metadata (1.5 kB)\n",
      "Collecting pyahocorasick (from textsearch>=0.0.21->contractions)\n",
      "  Obtaining dependency information for pyahocorasick from https://files.pythonhosted.org/packages/36/76/d83c60ec7a202cbfeffaa9649d0fee6ddcb974622e411b86211ff3572549/pyahocorasick-2.1.0-cp311-cp311-win_amd64.whl.metadata\n",
      "  Downloading pyahocorasick-2.1.0-cp311-cp311-win_amd64.whl.metadata (13 kB)\n",
      "Downloading contractions-0.1.73-py2.py3-none-any.whl (8.7 kB)\n",
      "Downloading textsearch-0.0.24-py2.py3-none-any.whl (7.6 kB)\n",
      "Downloading anyascii-0.3.2-py3-none-any.whl (289 kB)\n",
      "   ---------------------------------------- 0.0/289.9 kB ? eta -:--:--\n",
      "   -------- ------------------------------- 61.4/289.9 kB 1.7 MB/s eta 0:00:01\n",
      "   ------------------------------- -------- 225.3/289.9 kB 2.8 MB/s eta 0:00:01\n",
      "   ---------------------------------------- 289.9/289.9 kB 3.0 MB/s eta 0:00:00\n",
      "Downloading pyahocorasick-2.1.0-cp311-cp311-win_amd64.whl (39 kB)\n",
      "Installing collected packages: pyahocorasick, anyascii, textsearch, contractions\n",
      "Successfully installed anyascii-0.3.2 contractions-0.1.73 pyahocorasick-2.1.0 textsearch-0.0.24\n"
     ]
    }
   ],
   "source": [
    "!pip install contractions"
   ]
  },
  {
   "cell_type": "code",
   "execution_count": 7,
   "id": "d8ce3ac1-6754-4c66-b0fe-099329f589a6",
   "metadata": {
    "tags": []
   },
   "outputs": [],
   "source": [
    "import nltk\n",
    "import re\n",
    "import contractions\n",
    "\n",
    "def contraction_tokenizer(text):\n",
    "    expanded_text = contractions.fix(text)\n",
    "    \n",
    "    tokens = nltk.word_tokenize(expanded_text)\n",
    "    return tokens"
   ]
  },
  {
   "cell_type": "code",
   "execution_count": 8,
   "id": "521d8e1e-27b4-4a70-aeb0-93b03656012f",
   "metadata": {
    "tags": []
   },
   "outputs": [
    {
     "name": "stdout",
     "output_type": "stream",
     "text": [
      "['I', 'am', 'here', 'but', 'you', 'are', 'not', '.', 'They', 'have', 'gone', 'to', 'school', 'and', 'will', 'not', 'be', 'back', 'until', 'later', '.']\n"
     ]
    }
   ],
   "source": [
    "sample_text = \"I'm here but you're not. They've gone to school and won't be back until later.\"\n",
    "expanded_txt = contraction_tokenizer(sample_text)\n",
    "print(expanded_txt)"
   ]
  },
  {
   "cell_type": "markdown",
   "id": "7d375363",
   "metadata": {},
   "source": [
    "# 4. Implement the BPE algorithm with the following interface\n",
    "\n",
    "Your normalization should expand the contractions you implemented in problem 3."
   ]
  },
  {
   "cell_type": "code",
   "execution_count": 17,
   "id": "6796c432-230f-437e-9a10-62d6f3926b9c",
   "metadata": {
    "tags": []
   },
   "outputs": [
    {
     "name": "stdout",
     "output_type": "stream",
     "text": [
      "Encoded: [3667, 758, 1937, 4121, 2468, 457, 1148, 1526, 2465, 4103, 2337, 2635, 290, 1630, 1092, 1148, 1184, 1166, 2850, 2444, 1526]\n",
      "Decoded: I am here but you are not . They have gone to school and will not be back until later .\n"
     ]
    }
   ],
   "source": [
    "import contractions\n",
    "from collections import Counter, defaultdict\n",
    "import re\n",
    "\n",
    "class Tokenizer:\n",
    "    def __init__(self, vocab_size):\n",
    "        self.vocab_size = vocab_size\n",
    "        self.vocab = {\"<unknown>\": 0, \"the\": 1}\n",
    "        self.t2s = [\"<unknown>\", \"the\"]\n",
    "        self.bpe_rules = []\n",
    "    \n",
    "    def normalize(self, text):\n",
    "        # Expand contractions\n",
    "        expanded_text = contractions.fix(text)\n",
    "        tokens = nltk.word_tokenize(expanded_text)\n",
    "        return tokens\n",
    "    \n",
    "    def train(self, corpus):\n",
    "        # Tokenize and normalize the corpus\n",
    "        token_freq = Counter()\n",
    "        for word in corpus:\n",
    "            normalized_word = self.normalize(word)\n",
    "            token_freq.update(normalized_word)\n",
    "\n",
    "        vocab = set(token_freq.keys())\n",
    "        while len(vocab) < self.vocab_size:\n",
    "            pairs = Counter()\n",
    "            for word, freq in token_freq.items():\n",
    "                symbols = word.split()\n",
    "                for i in range(len(symbols) - 1):\n",
    "                    pairs[(symbols[i], symbols[i + 1])] += freq\n",
    "            \n",
    "            if not pairs:\n",
    "                break\n",
    "            \n",
    "            best_pair = max(pairs, key=pairs.get)\n",
    "            if pairs[best_pair] < 2:\n",
    "                break\n",
    "            \n",
    "            self.bpe_rules.append(best_pair)\n",
    "            new_token = ''.join(best_pair)\n",
    "            vocab.add(new_token)\n",
    "            replacements = {re.escape(' '.join(best_pair)): new_token}\n",
    "            pattern = re.compile(\"|\".join(replacements.keys()))\n",
    "            token_freq = Counter({pattern.sub(lambda m: replacements[re.escape(m.group(0))], word): freq for word, freq in token_freq.items()})\n",
    "        \n",
    "        # Update vocab and t2s\n",
    "        for token in vocab:\n",
    "            if token not in self.vocab:\n",
    "                self.vocab[token] = len(self.vocab)\n",
    "                self.t2s.append(token)\n",
    "\n",
    "    def encode(self, text):\n",
    "        normalized_tokens = self.normalize(text)\n",
    "        return [self.vocab.get(token, 0) for token in normalized_tokens]\n",
    "    \n",
    "    def decode(self, indices):\n",
    "        return ' '.join(self.t2s[index] for index in indices)\n",
    "\n",
    "# Usage\n",
    "from nltk.corpus import brown\n",
    "\n",
    "corpus = brown.words()[:20000] #limited for speed, change or remove for bigger range\n",
    "tokenizer = Tokenizer(5000)\n",
    "tokenizer.train(corpus)\n",
    "\n",
    "encoded = tokenizer.encode(\"I'm here but you're not. They've gone to school and won't be back until later.\")\n",
    "decoded = tokenizer.decode(encoded)\n",
    "\n",
    "print(\"Encoded:\", encoded)\n",
    "print(\"Decoded:\", decoded)\n"
   ]
  },
  {
   "cell_type": "markdown",
   "id": "d458104e",
   "metadata": {},
   "source": [
    "# 5. Using the package https://www.nltk.org/api/nltk.chat.html#module-nltk.chat, you will create a regular expression based chatbot that answers the following questions.  \n",
    "\n",
    "    a. What’s the temperature today? (check for the temperature at weather channel)\n",
    "    b. What’s my zip code? (based on the person’s location)\n",
    "    c. How much is $19.99 in <currency>? (You can search Google for “exchange rate between us and <currency>”)\n",
    "    d. What’s the definition of <word>? (you will need to look for the definition at Wikipedia or dictionary)\n",
    "    \n",
    "The chatbot structure from NLTK uses static string responses, you have to modify it (as in the example below) to allow for functional objects that can parse the web, for example.\n",
    "\n",
    "Note that you will need to process HTML to create the answers, and you will use Beautiful Soup to do that. \n",
    "\n",
    "https://www.crummy.com/software/BeautifulSoup/bs4/doc/index.html?highlight=select"
   ]
  },
  {
   "cell_type": "code",
   "execution_count": 4,
   "id": "bb3a529a-3556-4f9c-83bb-adda3fe4cc37",
   "metadata": {
    "tags": []
   },
   "outputs": [
    {
     "name": "stdout",
     "output_type": "stream",
     "text": [
      "Requirement already satisfied: beautifulsoup4 in c:\\users\\owner\\anaconda3\\lib\\site-packages (4.12.2)\n",
      "Requirement already satisfied: soupsieve>1.2 in c:\\users\\owner\\anaconda3\\lib\\site-packages (from beautifulsoup4) (2.4)\n",
      "Note: you may need to restart the kernel to use updated packages.\n"
     ]
    }
   ],
   "source": [
    "pip install beautifulsoup4"
   ]
  },
  {
   "cell_type": "code",
   "execution_count": 5,
   "id": "d213556b-dff8-4534-8aab-7b8725ef5b2a",
   "metadata": {
    "tags": []
   },
   "outputs": [
    {
     "name": "stdout",
     "output_type": "stream",
     "text": [
      "Requirement already satisfied: lxml in c:\\users\\owner\\anaconda3\\lib\\site-packages (4.9.3)\n",
      "Note: you may need to restart the kernel to use updated packages.\n"
     ]
    }
   ],
   "source": [
    "pip install lxml"
   ]
  },
  {
   "cell_type": "code",
   "execution_count": null,
   "id": "c3a4468c-03c8-4186-b040-cc977d84f38e",
   "metadata": {},
   "outputs": [],
   "source": [
    "from bs4 import BeautifulSoup\n",
    "\n"
   ]
  },
  {
   "cell_type": "code",
   "execution_count": 2,
   "id": "3f6baceb",
   "metadata": {
    "collapsed": true,
    "jupyter": {
     "outputs_hidden": true,
     "source_hidden": true
    },
    "tags": []
   },
   "outputs": [
    {
     "name": "stdout",
     "output_type": "stream",
     "text": [
      "***************************************************************************\n",
      "                                  Chatbot!                                 \n",
      "***************************************************************************\n",
      "Welcome.\n"
     ]
    },
    {
     "ename": "KeyboardInterrupt",
     "evalue": "Interrupted by user",
     "output_type": "error",
     "traceback": [
      "\u001b[1;31m---------------------------------------------------------------------------\u001b[0m",
      "\u001b[1;31mKeyboardInterrupt\u001b[0m                         Traceback (most recent call last)",
      "Cell \u001b[1;32mIn[2], line 59\u001b[0m\n\u001b[0;32m     55\u001b[0m     \u001b[38;5;28mprint\u001b[39m(\u001b[38;5;124m\"\u001b[39m\u001b[38;5;124mWelcome.\u001b[39m\u001b[38;5;124m\"\u001b[39m)\n\u001b[0;32m     57\u001b[0m     chatbot\u001b[38;5;241m.\u001b[39mconverse()\n\u001b[1;32m---> 59\u001b[0m chat()\n",
      "Cell \u001b[1;32mIn[2], line 57\u001b[0m, in \u001b[0;36mchat\u001b[1;34m()\u001b[0m\n\u001b[0;32m     54\u001b[0m \u001b[38;5;28mprint\u001b[39m(\u001b[38;5;124m\"\u001b[39m\u001b[38;5;124m*\u001b[39m\u001b[38;5;124m\"\u001b[39m \u001b[38;5;241m*\u001b[39m \u001b[38;5;241m75\u001b[39m)\n\u001b[0;32m     55\u001b[0m \u001b[38;5;28mprint\u001b[39m(\u001b[38;5;124m\"\u001b[39m\u001b[38;5;124mWelcome.\u001b[39m\u001b[38;5;124m\"\u001b[39m)\n\u001b[1;32m---> 57\u001b[0m chatbot\u001b[38;5;241m.\u001b[39mconverse()\n",
      "File \u001b[1;32m~\\anaconda3\\Lib\\site-packages\\nltk\\chat\\util.py:118\u001b[0m, in \u001b[0;36mChat.converse\u001b[1;34m(self, quit)\u001b[0m\n\u001b[0;32m    116\u001b[0m user_input \u001b[38;5;241m=\u001b[39m quit\n\u001b[0;32m    117\u001b[0m \u001b[38;5;28;01mtry\u001b[39;00m:\n\u001b[1;32m--> 118\u001b[0m     user_input \u001b[38;5;241m=\u001b[39m \u001b[38;5;28minput\u001b[39m(\u001b[38;5;124m\"\u001b[39m\u001b[38;5;124m>\u001b[39m\u001b[38;5;124m\"\u001b[39m)\n\u001b[0;32m    119\u001b[0m \u001b[38;5;28;01mexcept\u001b[39;00m \u001b[38;5;167;01mEOFError\u001b[39;00m:\n\u001b[0;32m    120\u001b[0m     \u001b[38;5;28mprint\u001b[39m(user_input)\n",
      "File \u001b[1;32m~\\anaconda3\\Lib\\site-packages\\ipykernel\\kernelbase.py:1202\u001b[0m, in \u001b[0;36mKernel.raw_input\u001b[1;34m(self, prompt)\u001b[0m\n\u001b[0;32m   1200\u001b[0m     msg \u001b[38;5;241m=\u001b[39m \u001b[38;5;124m\"\u001b[39m\u001b[38;5;124mraw_input was called, but this frontend does not support input requests.\u001b[39m\u001b[38;5;124m\"\u001b[39m\n\u001b[0;32m   1201\u001b[0m     \u001b[38;5;28;01mraise\u001b[39;00m StdinNotImplementedError(msg)\n\u001b[1;32m-> 1202\u001b[0m \u001b[38;5;28;01mreturn\u001b[39;00m \u001b[38;5;28mself\u001b[39m\u001b[38;5;241m.\u001b[39m_input_request(\n\u001b[0;32m   1203\u001b[0m     \u001b[38;5;28mstr\u001b[39m(prompt),\n\u001b[0;32m   1204\u001b[0m     \u001b[38;5;28mself\u001b[39m\u001b[38;5;241m.\u001b[39m_parent_ident[\u001b[38;5;124m\"\u001b[39m\u001b[38;5;124mshell\u001b[39m\u001b[38;5;124m\"\u001b[39m],\n\u001b[0;32m   1205\u001b[0m     \u001b[38;5;28mself\u001b[39m\u001b[38;5;241m.\u001b[39mget_parent(\u001b[38;5;124m\"\u001b[39m\u001b[38;5;124mshell\u001b[39m\u001b[38;5;124m\"\u001b[39m),\n\u001b[0;32m   1206\u001b[0m     password\u001b[38;5;241m=\u001b[39m\u001b[38;5;28;01mFalse\u001b[39;00m,\n\u001b[0;32m   1207\u001b[0m )\n",
      "File \u001b[1;32m~\\anaconda3\\Lib\\site-packages\\ipykernel\\kernelbase.py:1245\u001b[0m, in \u001b[0;36mKernel._input_request\u001b[1;34m(self, prompt, ident, parent, password)\u001b[0m\n\u001b[0;32m   1242\u001b[0m \u001b[38;5;28;01mexcept\u001b[39;00m \u001b[38;5;167;01mKeyboardInterrupt\u001b[39;00m:\n\u001b[0;32m   1243\u001b[0m     \u001b[38;5;66;03m# re-raise KeyboardInterrupt, to truncate traceback\u001b[39;00m\n\u001b[0;32m   1244\u001b[0m     msg \u001b[38;5;241m=\u001b[39m \u001b[38;5;124m\"\u001b[39m\u001b[38;5;124mInterrupted by user\u001b[39m\u001b[38;5;124m\"\u001b[39m\n\u001b[1;32m-> 1245\u001b[0m     \u001b[38;5;28;01mraise\u001b[39;00m \u001b[38;5;167;01mKeyboardInterrupt\u001b[39;00m(msg) \u001b[38;5;28;01mfrom\u001b[39;00m \u001b[38;5;28;01mNone\u001b[39;00m\n\u001b[0;32m   1246\u001b[0m \u001b[38;5;28;01mexcept\u001b[39;00m \u001b[38;5;167;01mException\u001b[39;00m:\n\u001b[0;32m   1247\u001b[0m     \u001b[38;5;28mself\u001b[39m\u001b[38;5;241m.\u001b[39mlog\u001b[38;5;241m.\u001b[39mwarning(\u001b[38;5;124m\"\u001b[39m\u001b[38;5;124mInvalid Message:\u001b[39m\u001b[38;5;124m\"\u001b[39m, exc_info\u001b[38;5;241m=\u001b[39m\u001b[38;5;28;01mTrue\u001b[39;00m)\n",
      "\u001b[1;31mKeyboardInterrupt\u001b[0m: Interrupted by user"
     ]
    }
   ],
   "source": [
    "from nltk.chat.util import Chat, reflections\n",
    "\n",
    "import random\n",
    "\n",
    "temperature = 84\n",
    "\n",
    "def get_temp():\n",
    "    global temperature\n",
    "    temperature += 1\n",
    "    if temperature > 85:\n",
    "        return 'It is hot today.'\n",
    "    return f'The temperature is {temperature}.'\n",
    "\n",
    "responses = (\n",
    "    (\n",
    "        r\"(hello(.*))|(good [a-zA-Z]+)\",\n",
    "        (\n",
    "            get_temp,\n",
    "        ),\n",
    "    ),\n",
    ")\n",
    "\n",
    "def respond(self, str):\n",
    "    \"\"\"\n",
    "    Generate a response to the user input.\n",
    "    :type str: str\n",
    "    :param str: The string to be mapped\n",
    "    :rtype: str\n",
    "    \"\"\"\n",
    "\n",
    "    # check each pattern\n",
    "    for (pattern, response) in self._pairs:\n",
    "        match = pattern.match(str)\n",
    "\n",
    "        # did the pattern match?\n",
    "        if match:\n",
    "            resp = random.choice(response)  # pick a random response\n",
    "            resp = resp()\n",
    "            resp = self._wildcards(resp, match)  # process wildcards\n",
    "\n",
    "            # fix munged punctuation at the end\n",
    "            if resp[-2:] == \"?.\":\n",
    "                resp = resp[:-2] + \".\"\n",
    "            if resp[-2:] == \"??\":\n",
    "                resp = resp[:-2] + \"?\"\n",
    "            return resp\n",
    "\n",
    "chatbot = Chat(responses, reflections)\n",
    "Chat.respond = respond\n",
    "\n",
    "def chat():\n",
    "    print(\"*\" * 75)\n",
    "    print(\"Chatbot!\".center(75))\n",
    "    print(\"*\" * 75)\n",
    "    print(\"Welcome.\")\n",
    "\n",
    "    chatbot.converse()\n",
    "    \n",
    "chat()"
   ]
  },
  {
   "cell_type": "code",
   "execution_count": 51,
   "id": "163ec323-e495-409a-84af-e305edb73974",
   "metadata": {
    "tags": []
   },
   "outputs": [
    {
     "name": "stdout",
     "output_type": "stream",
     "text": [
      "***************************************************************************\n",
      "                             Enhanced Chatbot!                             \n",
      "***************************************************************************\n",
      "Welcome to the enhanced chatbot. Ask me a question!\n"
     ]
    },
    {
     "name": "stdin",
     "output_type": "stream",
     "text": [
      "Press Enter to start... What's the temperature today?\n",
      "You:  What's the temperature today?\n"
     ]
    },
    {
     "name": "stdout",
     "output_type": "stream",
     "text": [
      "Chatbot: The temperature today is 59°.\n"
     ]
    },
    {
     "name": "stdin",
     "output_type": "stream",
     "text": [
      "You:  What's my zip code?\n"
     ]
    },
    {
     "name": "stdout",
     "output_type": "stream",
     "text": [
      "Chatbot: Your ZIP code based on your current IP is 95103.\n"
     ]
    },
    {
     "name": "stdin",
     "output_type": "stream",
     "text": [
      "You:  How much is $19.99 in eur?\n"
     ]
    },
    {
     "name": "stdout",
     "output_type": "stream",
     "text": [
      "Chatbot: $19.99 in EUR is approximately 18.75.\n"
     ]
    },
    {
     "name": "stdin",
     "output_type": "stream",
     "text": [
      "You:  What's the definition of cockatrice?\n"
     ]
    },
    {
     "name": "stdout",
     "output_type": "stream",
     "text": [
      "Chatbot: The definition of cockatrice is:   a legendary monster with a deadly glance, supposedly hatched by a serpent from the egg of a rooster, and commonly represented with the head, legs, and wings of a rooster and the body and tail of a serpent. Compare basilisk ( def 1 ).\n"
     ]
    },
    {
     "name": "stdin",
     "output_type": "stream",
     "text": [
      "You:  Thanks\n"
     ]
    },
    {
     "name": "stdout",
     "output_type": "stream",
     "text": [
      "Chatbot: I'm not sure how to respond to that.\n"
     ]
    },
    {
     "ename": "KeyboardInterrupt",
     "evalue": "Interrupted by user",
     "output_type": "error",
     "traceback": [
      "\u001b[1;31m---------------------------------------------------------------------------\u001b[0m",
      "\u001b[1;31mKeyboardInterrupt\u001b[0m                         Traceback (most recent call last)",
      "Cell \u001b[1;32mIn[51], line 82\u001b[0m\n\u001b[0;32m     79\u001b[0m         response \u001b[38;5;241m=\u001b[39m chatbot\u001b[38;5;241m.\u001b[39mrespond(user_input)\n\u001b[0;32m     80\u001b[0m         \u001b[38;5;28mprint\u001b[39m(\u001b[38;5;124m\"\u001b[39m\u001b[38;5;124mChatbot:\u001b[39m\u001b[38;5;124m\"\u001b[39m, response)\n\u001b[1;32m---> 82\u001b[0m chat()\n",
      "Cell \u001b[1;32mIn[51], line 75\u001b[0m, in \u001b[0;36mchat\u001b[1;34m()\u001b[0m\n\u001b[0;32m     72\u001b[0m \u001b[38;5;28minput\u001b[39m(\u001b[38;5;124m\"\u001b[39m\u001b[38;5;124mPress Enter to start...\u001b[39m\u001b[38;5;124m\"\u001b[39m)\n\u001b[0;32m     74\u001b[0m \u001b[38;5;28;01mwhile\u001b[39;00m \u001b[38;5;28;01mTrue\u001b[39;00m:\n\u001b[1;32m---> 75\u001b[0m     user_input \u001b[38;5;241m=\u001b[39m \u001b[38;5;28minput\u001b[39m(\u001b[38;5;124m\"\u001b[39m\u001b[38;5;124mYou: \u001b[39m\u001b[38;5;124m\"\u001b[39m)\n\u001b[0;32m     76\u001b[0m     \u001b[38;5;28;01mif\u001b[39;00m user_input\u001b[38;5;241m.\u001b[39mlower() \u001b[38;5;241m==\u001b[39m \u001b[38;5;124m\"\u001b[39m\u001b[38;5;124mquit\u001b[39m\u001b[38;5;124m\"\u001b[39m:\n\u001b[0;32m     77\u001b[0m         \u001b[38;5;28mprint\u001b[39m(\u001b[38;5;124m\"\u001b[39m\u001b[38;5;124mGoodbye!\u001b[39m\u001b[38;5;124m\"\u001b[39m)\n",
      "File \u001b[1;32m~\\anaconda3\\Lib\\site-packages\\ipykernel\\kernelbase.py:1202\u001b[0m, in \u001b[0;36mKernel.raw_input\u001b[1;34m(self, prompt)\u001b[0m\n\u001b[0;32m   1200\u001b[0m     msg \u001b[38;5;241m=\u001b[39m \u001b[38;5;124m\"\u001b[39m\u001b[38;5;124mraw_input was called, but this frontend does not support input requests.\u001b[39m\u001b[38;5;124m\"\u001b[39m\n\u001b[0;32m   1201\u001b[0m     \u001b[38;5;28;01mraise\u001b[39;00m StdinNotImplementedError(msg)\n\u001b[1;32m-> 1202\u001b[0m \u001b[38;5;28;01mreturn\u001b[39;00m \u001b[38;5;28mself\u001b[39m\u001b[38;5;241m.\u001b[39m_input_request(\n\u001b[0;32m   1203\u001b[0m     \u001b[38;5;28mstr\u001b[39m(prompt),\n\u001b[0;32m   1204\u001b[0m     \u001b[38;5;28mself\u001b[39m\u001b[38;5;241m.\u001b[39m_parent_ident[\u001b[38;5;124m\"\u001b[39m\u001b[38;5;124mshell\u001b[39m\u001b[38;5;124m\"\u001b[39m],\n\u001b[0;32m   1205\u001b[0m     \u001b[38;5;28mself\u001b[39m\u001b[38;5;241m.\u001b[39mget_parent(\u001b[38;5;124m\"\u001b[39m\u001b[38;5;124mshell\u001b[39m\u001b[38;5;124m\"\u001b[39m),\n\u001b[0;32m   1206\u001b[0m     password\u001b[38;5;241m=\u001b[39m\u001b[38;5;28;01mFalse\u001b[39;00m,\n\u001b[0;32m   1207\u001b[0m )\n",
      "File \u001b[1;32m~\\anaconda3\\Lib\\site-packages\\ipykernel\\kernelbase.py:1245\u001b[0m, in \u001b[0;36mKernel._input_request\u001b[1;34m(self, prompt, ident, parent, password)\u001b[0m\n\u001b[0;32m   1242\u001b[0m \u001b[38;5;28;01mexcept\u001b[39;00m \u001b[38;5;167;01mKeyboardInterrupt\u001b[39;00m:\n\u001b[0;32m   1243\u001b[0m     \u001b[38;5;66;03m# re-raise KeyboardInterrupt, to truncate traceback\u001b[39;00m\n\u001b[0;32m   1244\u001b[0m     msg \u001b[38;5;241m=\u001b[39m \u001b[38;5;124m\"\u001b[39m\u001b[38;5;124mInterrupted by user\u001b[39m\u001b[38;5;124m\"\u001b[39m\n\u001b[1;32m-> 1245\u001b[0m     \u001b[38;5;28;01mraise\u001b[39;00m \u001b[38;5;167;01mKeyboardInterrupt\u001b[39;00m(msg) \u001b[38;5;28;01mfrom\u001b[39;00m \u001b[38;5;28;01mNone\u001b[39;00m\n\u001b[0;32m   1246\u001b[0m \u001b[38;5;28;01mexcept\u001b[39;00m \u001b[38;5;167;01mException\u001b[39;00m:\n\u001b[0;32m   1247\u001b[0m     \u001b[38;5;28mself\u001b[39m\u001b[38;5;241m.\u001b[39mlog\u001b[38;5;241m.\u001b[39mwarning(\u001b[38;5;124m\"\u001b[39m\u001b[38;5;124mInvalid Message:\u001b[39m\u001b[38;5;124m\"\u001b[39m, exc_info\u001b[38;5;241m=\u001b[39m\u001b[38;5;28;01mTrue\u001b[39;00m)\n",
      "\u001b[1;31mKeyboardInterrupt\u001b[0m: Interrupted by user"
     ]
    }
   ],
   "source": [
    "from nltk.chat.util import Chat, reflections\n",
    "import random\n",
    "import requests\n",
    "from bs4 import BeautifulSoup\n",
    "\n",
    "api_key = 'insertapikey'\n",
    "\n",
    "# Define functions for each question response\n",
    "def get_temperature():\n",
    "    # Fetch weather from a weather site\n",
    "    response = requests.get(\"https://weather.com/weather/today/\")\n",
    "    soup = BeautifulSoup(response.text, 'lxml')\n",
    "    temp = soup.find('span', class_='CurrentConditions--tempValue--MHmYY').text\n",
    "    return f\"The temperature today is {temp}.\"\n",
    "\n",
    "def get_zip_code():\n",
    "    # Use the IPinfo API to get location data by IP address\n",
    "    response = requests.get(f\"https://ipinfo.io?token={api_key}\")\n",
    "    data = response.json()\n",
    "    zip_code = get_zip_code_by_ip(api_key)\n",
    "    return f\"Your ZIP code based on your current IP is {zip_code}.\"\n",
    "\n",
    "def convert_currency(currency):\n",
    "    # Fetch conversion rate \n",
    "    response = requests.get(f\"https://www.x-rates.com/calculator/?from=USD&to={currency}&amount=19.99\")\n",
    "    soup = BeautifulSoup(response.text, 'lxml')\n",
    "    result = soup.find('span', class_='ccOutputTrail').previous_sibling.text\n",
    "    return f\"$19.99 in {currency.upper()} is approximately {result}.\"\n",
    "\n",
    "def get_definition(word):\n",
    "    # Fetch word definition from a dictionary site\n",
    "    response = requests.get(f\"https://www.dictionary.com/browse/{word}\")\n",
    "    soup = BeautifulSoup(response.text, 'lxml')\n",
    "    definition = soup.find('div', class_='NZKOFkdkcvYgD3lqOIJw').text\n",
    "    return f\"The definition of {word} is: {definition}\"\n",
    "\n",
    "# Customize the Chat class response method\n",
    "def custom_respond(self, user_input):\n",
    "    for (pattern, responses) in self._pairs:\n",
    "        match = re.match(pattern, user_input)\n",
    "\n",
    "        if match:\n",
    "            resp = random.choice(responses)  # pick a random response\n",
    "            if callable(resp):\n",
    "                resp = resp(*match.groups())\n",
    "            return resp\n",
    "\n",
    "    return \"I'm not sure how to respond to that.\"\n",
    "\n",
    "# Define pairs for questions and respective functions\n",
    "pairs = (\n",
    "    (r\"[wW]hat.s the temperature today\\??\", [get_temperature]),\n",
    "    (r\"[wW]hat.s my zip code\\??\", [get_zip_code]),\n",
    "    (r\"[hH]ow much is \\$19\\.99 in ([a-zA-Z]+)\\?\", [convert_currency]),\n",
    "    (r\"[wW]hat.s the definition of (\\w+)\\?\", [get_definition]),\n",
    ")\n",
    "\n",
    "# Override the Chat class with custom respond method\n",
    "class CustomChat(Chat):\n",
    "    def respond(self, user_input):\n",
    "        return custom_respond(self, user_input)\n",
    "\n",
    "#run the chatbot\n",
    "chatbot = CustomChat(pairs, reflections)\n",
    "\n",
    "def chat():\n",
    "    print(\"*\" * 75)\n",
    "    print(\"Chatbot!\".center(75))\n",
    "    print(\"*\" * 75)\n",
    "    print(\"Welcome to the chatbot. Ask me a question!\")\n",
    "\n",
    "    input(\"Press Enter to start...\")\n",
    "\n",
    "    while True:\n",
    "        user_input = input(\"You: \")\n",
    "        if user_input.lower() == \"quit\":\n",
    "            print(\"Goodbye!\")\n",
    "            break\n",
    "        response = chatbot.respond(user_input)\n",
    "        print(\"Chatbot:\", response)\n",
    "\n",
    "chat()\n"
   ]
  },
  {
   "cell_type": "code",
   "execution_count": 29,
   "id": "6692afc1-3f69-4725-8e4b-dc2b06b44b7c",
   "metadata": {
    "collapsed": true,
    "jupyter": {
     "outputs_hidden": true,
     "source_hidden": true
    },
    "tags": []
   },
   "outputs": [
    {
     "name": "stdout",
     "output_type": "stream",
     "text": [
      "<!DOCTYPE html>\n",
      "<html dir=\"ltr\" lang=\"en-US\">\n",
      " <head>\n",
      "  <meta charset=\"utf-8\" data-react-helmet=\"true\"/>\n",
      "  <meta content=\"width=device-width, initial-scale=1, viewport-fit=cover\" data-react-helmet=\"true\" name=\"viewport\"/>\n",
      "  <meta content=\"max-image-preview:large\" data-react-helmet=\"true\" name=\"robots\"/>\n",
      "  <meta content=\"index, follow\" data-react-helmet=\"true\" name=\"robots\"/>\n",
      "  <meta content=\"origin\" data-react-helmet=\"true\" name=\"referrer\"/>\n",
      "  <meta content=\"Today’s and tonight’s San Jose, CA weather forecast, weather conditions and Doppler radar from The Weather Channel and Weather.com\" data-react-helmet=\"true\" name=\"description\"/>\n",
      "  <meta content=\"#ffffff\" data-react-helmet=\"true\" name=\"msapplication-TileColor\"/>\n",
      "  <meta content=\"/daybreak-today/assets/ms-icon-144x144.d353af.png\" data-react-helmet=\"true\" name=\"msapplication-TileImage\"/>\n",
      "  <meta content=\"#ffffff\" data-react-helmet=\"true\" name=\"theme-color\"/>\n",
      "  <meta content=\"app-id=295646461\" data-react-helmet=\"true\" name=\"apple-itunes-app\"/>\n",
      "  <meta content=\"Weather Forecast and Conditions for San Jose, CA - The Weather Channel | Weather.com\" data-react-helmet=\"true\" property=\"og:title\"/>\n",
      "  <meta content=\"https://s.w-x.co/240x180_twc_default.png\" data-react-helmet=\"true\" property=\"og:image\"/>\n",
      "  <meta content=\"https://s.w-x.co/240x180_twc_default.png\" data-react-helmet=\"true\" property=\"og:image:url\"/>\n",
      "  <meta content=\"https://s.w-x.co/240x180_twc_default.png\" data-react-helmet=\"true\" property=\"og:image:secure_url\"/>\n",
      "  <meta content=\"The Weather Channel\" data-react-helmet=\"true\" property=\"og:site_name\"/>\n",
      "  <meta content=\"article\" data-react-helmet=\"true\" property=\"og:type\"/>\n",
      "  <meta content=\"en_US\" data-react-helmet=\"true\" property=\"og:locale\"/>\n",
      "  <meta content=\"Today’s and tonight’s San Jose, CA weather forecast, weather conditions and Doppler radar from The Weather Channel and Weather.com\" data-react-helmet=\"true\" property=\"og:description\"/>\n",
      "  <meta content=\"https://weather.com/weather/today/l/San+Jose+CA?canonica\n"
     ]
    }
   ],
   "source": [
    "#TEST CODE\n",
    "response = requests.get(\"https://weather.com/weather/today/\")\n",
    "soup = BeautifulSoup(response.text, 'lxml')\n",
    "print(soup.prettify()[:2000])  # Print only the first 2000 characters"
   ]
  },
  {
   "cell_type": "code",
   "execution_count": 31,
   "id": "a8c56c8a-4a13-4f06-a3c8-9304252ea916",
   "metadata": {
    "jupyter": {
     "source_hidden": true
    },
    "tags": []
   },
   "outputs": [
    {
     "name": "stdout",
     "output_type": "stream",
     "text": [
      "Temperature element found: 60°\n"
     ]
    }
   ],
   "source": [
    "#TEST CODE TO FIND TEMPERATURE\n",
    "temp = soup.find('span', class_='CurrentConditions--tempValue--MHmYY')  \n",
    "if temp:\n",
    "    print(\"Temperature element found:\", temp.text)\n",
    "else:\n",
    "    print(\"Temperature element not found.\")"
   ]
  },
  {
   "cell_type": "code",
   "execution_count": 43,
   "id": "3e8b09b3-be7a-4173-944d-79a439dbb20f",
   "metadata": {
    "jupyter": {
     "source_hidden": true
    },
    "tags": []
   },
   "outputs": [
    {
     "name": "stdout",
     "output_type": "stream",
     "text": [
      "Zip code element found: \n"
     ]
    }
   ],
   "source": [
    "#TEST CODE TO FIND ZIPCODE\n",
    "from bs4 import BeautifulSoup\n",
    "import requests\n",
    "\n",
    "url = \"https://www.mapdevelopers.com/what-is-my-zip-code.php\"\n",
    "\n",
    "# Make a request to the webpage\n",
    "response = requests.get(url)\n",
    "soup = BeautifulSoup(response.text, 'lxml')\n",
    "\n",
    "\n",
    "zip_code = soup.find('div', class_='col-sm-4 col-md-4')\n",
    "if zip_code:\n",
    "    print(\"Zip code element found:\", zip_code.text)\n",
    "else:\n",
    "    print(\"Zip code element not found.\")"
   ]
  },
  {
   "cell_type": "code",
   "execution_count": 47,
   "id": "12216c22-d494-4124-8a23-8564961646fc",
   "metadata": {
    "jupyter": {
     "source_hidden": true
    },
    "tags": []
   },
   "outputs": [
    {
     "name": "stdout",
     "output_type": "stream",
     "text": [
      "ZIP Code: 95103\n"
     ]
    }
   ],
   "source": [
    "#SECONDARY TEST CODE TO FIND ZIP CODE\n",
    "import requests\n",
    "\n",
    "def get_zip_code_by_ip(api_key):\n",
    "    # Use the IPinfo API to get location data by IP address\n",
    "    response = requests.get(f\"https://ipinfo.io?token={api_key}\")\n",
    "    data = response.json()\n",
    "    return data.get('postal')  # 'postal' is the key for the ZIP code in the IPinfo API response\n",
    "\n",
    "api_key = '49b85054de195f'  # Replace with your actual API key\n",
    "zip_code = get_zip_code_by_ip(api_key)\n",
    "print(\"ZIP Code:\", zip_code)"
   ]
  },
  {
   "cell_type": "markdown",
   "id": "ba6de3fc",
   "metadata": {},
   "source": [
    "# 6. Implement the spell checker for cell phones\n",
    "\n",
    "Have you ever tried to type in something quickly and because the keyboard size in the cell phone is much smaller than your finger, it typing in the neighboring letters?\n",
    "\n",
    "   a) You will implement the spell checker from the site: https://norvig.com/spell-correct.html\n",
    "\n",
    "   b) You will change your code to consider that replacements would only occur to neighboring words. For example, in the picture, the letter 'u' can be replaced by 'y' or 'i'.\n",
    "\n",
    "![Keyboard iPhone](keyboard.png)"
   ]
  },
  {
   "cell_type": "code",
   "execution_count": 8,
   "id": "fc4fdb99-d5a6-4ffa-8976-4214fa4ea601",
   "metadata": {
    "tags": []
   },
   "outputs": [],
   "source": [
    "keyboard_neighbors = {\n",
    "    'a': 's',\n",
    "    'b': 'vn',\n",
    "    'c': 'xv',\n",
    "    'd': 'sf',\n",
    "    'e': 'wr',\n",
    "    'f': 'dg',\n",
    "    'g': 'fh',\n",
    "    'h': 'gj',\n",
    "    'i': 'uo',\n",
    "    'j': 'hk',\n",
    "    'k': 'jl',\n",
    "    'l': 'k',\n",
    "    'm': 'n',\n",
    "    'n': 'bm',\n",
    "    'o': 'ip',\n",
    "    'p': 'o',\n",
    "    'q': 'w',\n",
    "    'r': 'et',\n",
    "    's': 'da',\n",
    "    't': 'ry',\n",
    "    'u': 'yi',\n",
    "    'v': 'cb',\n",
    "    'w': 'qe',\n",
    "    'x': 'zc',\n",
    "    'y': 'tu',\n",
    "    'z': 'x'\n",
    "}"
   ]
  },
  {
   "cell_type": "code",
   "execution_count": 80,
   "id": "cd653891-5d1a-4058-93d8-5fa4f1fac7db",
   "metadata": {
    "tags": []
   },
   "outputs": [],
   "source": [
    "import re\n",
    "from collections import Counter\n",
    "\n",
    "def words(text): return re.findall(r'\\w+', text.lower())\n",
    "\n",
    "WORDS = Counter(words(open('big.txt').read()))\n",
    "\n",
    "def P(word, N=sum(WORDS.values())): \n",
    "    #Probability\n",
    "    return WORDS[word] / N\n",
    "\n",
    "def correction(word): \n",
    "    #Most probable spelling correction for word.\"\n",
    "    return max(candidates(word), key=P)\n",
    "\n",
    "def candidates(word): \n",
    "    #Generate possible spelling corrections for word.\"\n",
    "    return (known([word]) or known(edits1(word)) or known(edits2(word)) or [word])\n",
    "\n",
    "def known(words): \n",
    "    #The subset of `words` that appear in the dictionary of WORDS.\"\n",
    "    return set(w for w in words if w in WORDS)\n",
    "\n",
    "def edits1(word):\n",
    "    #All edits that are one edit away \n",
    "    splits = [(word[:i], word[i:]) for i in range(len(word) + 1)]\n",
    "    deletes = [L + R[1:] for L, R in splits if R]\n",
    "    transposes = [L + R[1] + R[0] + R[2:] for L, R in splits if len(R)>1]\n",
    "    replaces = [L + c + R[1:] for L, R in splits if R for c in keyboard_neighbors.get(R[0], '')]\n",
    "    inserts = [L + c + R for L, R in splits for c in (keyboard_neighbors.get(L[-1], '') if L else '') + (keyboard_neighbors.get(R[0], '') if R else '')]\n",
    "    return set(deletes + transposes + replaces + inserts)\n",
    "\n",
    "def edits2(word): \n",
    "    #All edits that are two edits away \n",
    "    return (e2 for e1 in edits1(word) for e2 in edits1(e1))"
   ]
  },
  {
   "cell_type": "code",
   "execution_count": 85,
   "id": "ad577cb9-01b6-4718-a57a-aa5b1db600b6",
   "metadata": {
    "tags": []
   },
   "outputs": [
    {
     "data": {
      "text/plain": [
       "'correct'"
      ]
     },
     "execution_count": 85,
     "metadata": {},
     "output_type": "execute_result"
    }
   ],
   "source": [
    "correction('vorrect')"
   ]
  },
  {
   "cell_type": "code",
   "execution_count": 86,
   "id": "cfd9d836-b4d9-4b51-a37a-27da57e429e5",
   "metadata": {
    "tags": []
   },
   "outputs": [
    {
     "data": {
      "text/plain": [
       "'correct'"
      ]
     },
     "execution_count": 86,
     "metadata": {},
     "output_type": "execute_result"
    }
   ],
   "source": [
    "correction('cortect')"
   ]
  },
  {
   "cell_type": "code",
   "execution_count": 87,
   "id": "347fa6da-ad9f-4908-acbd-d405572243b5",
   "metadata": {
    "tags": []
   },
   "outputs": [
    {
     "data": {
      "text/plain": [
       "'korrect'"
      ]
     },
     "execution_count": 87,
     "metadata": {},
     "output_type": "execute_result"
    }
   ],
   "source": [
    "correction('korrect')"
   ]
  },
  {
   "cell_type": "code",
   "execution_count": 88,
   "id": "93585a32-ba4e-4a77-9b11-05fd5c8754d5",
   "metadata": {
    "tags": []
   },
   "outputs": [
    {
     "data": {
      "text/plain": [
       "'correct'"
      ]
     },
     "execution_count": 88,
     "metadata": {},
     "output_type": "execute_result"
    }
   ],
   "source": [
    "correction('vorrecy')"
   ]
  },
  {
   "cell_type": "code",
   "execution_count": 93,
   "id": "9822c3cf-f9f5-4bf5-a63a-6341d5f0649b",
   "metadata": {
    "tags": []
   },
   "outputs": [
    {
     "data": {
      "text/plain": [
       "'correct'"
      ]
     },
     "execution_count": 93,
     "metadata": {},
     "output_type": "execute_result"
    }
   ],
   "source": [
    "correction('cprrwct')"
   ]
  },
  {
   "cell_type": "markdown",
   "id": "8f790ebd",
   "metadata": {},
   "source": [
    "# 7. Implement the Weighted Mininum Edit Distance\n",
    "\n",
    "In this problem, you will implement the weighted minimum edit distance algorithm of slide 94.\n",
    "\n",
    "You will consider the following.\n",
    "\n",
    "- delete and insertion cost is 1\n",
    "- substitution cost is 1 if it is in adjacent in the keyboard, like in problem 6.b\n",
    "- substitution cost is 2 if it is below or above, or two characters to the right or left (for example, in the example of 6.b, replacing a 'u' by a 't' or 'o' would have a cost of 2\n",
    "- substitution cost is infinity if that does not apply\n",
    "\n",
    "Run the algorithm for the two words: \n",
    "\n",
    "- 'caft' vs 'cat' \n",
    "- 'coffee' vs 'voffrt'"
   ]
  },
  {
   "cell_type": "code",
   "execution_count": 9,
   "id": "e7d3237d-dd8a-4433-acbb-fd9b3a2c88f7",
   "metadata": {
    "tags": []
   },
   "outputs": [],
   "source": [
    "def keyboard_substitution_cost(a,b):\n",
    "    #Dictionary of neighboring keys    \n",
    "    keyboard_neighbors = {\n",
    "        'a': 's',\n",
    "        'b': 'vn',\n",
    "        'c': 'xv',\n",
    "        'd': 'sf',\n",
    "        'e': 'wr',\n",
    "        'f': 'dg',\n",
    "        'g': 'fh',\n",
    "        'h': 'gj',\n",
    "        'i': 'uo',\n",
    "        'j': 'hk',\n",
    "        'k': 'jl',\n",
    "        'l': 'k',\n",
    "        'm': 'n',\n",
    "        'n': 'bm',\n",
    "        'o': 'ip',\n",
    "        'p': 'o',\n",
    "        'q': 'w',\n",
    "        'r': 'et',\n",
    "        's': 'da',\n",
    "        't': 'ry',\n",
    "        'u': 'yi',\n",
    "        'v': 'cb',\n",
    "        'w': 'qe',\n",
    "        'x': 'zc',\n",
    "        'y': 'tu',\n",
    "        'z': 'x'\n",
    "    }\n",
    "    #dictionary of keys 2 away or up and down\n",
    "    expanded_keyboard_neighbors = {\n",
    "        'q': 'ae', 'w': 'asr', 'e': 'qtsd', 'r': 'wydf', 't': 'fgeu',\n",
    "        'y': 'ghri', 'u': 'hjto', 'i': 'jkyp', 'o': 'kly', 'p': 'il',\n",
    "        'a': 'zqd', 's': 'zxwef', 'd': 'xcerag', 'f': 'cvrtsh', 'g': 'vbtydj',\n",
    "        'h': 'bnyufk', 'j': 'nmuigl', 'k': 'mioh', 'l': 'opj',\n",
    "        'z': 'asc', 'x': 'sdv', 'c': 'dfzb', 'v': 'fgxn', 'b': 'cmgh',\n",
    "        'n': 'hjv', 'm': 'jkb'\n",
    "    }\n",
    "    \n",
    "    if b in keyboard_neighbors.get(a, ''):\n",
    "        return 1\n",
    "    elif b in expanded_keyboard_neighbors.get(a, ''):\n",
    "        return 2\n",
    "    else:\n",
    "        return float('inf')"
   ]
  },
  {
   "cell_type": "code",
   "execution_count": 11,
   "id": "14d37069",
   "metadata": {},
   "outputs": [],
   "source": [
    "def min_edit_distance(source, target, del_cost, ins_cost, sub_cost):\n",
    "    n = len(source)\n",
    "    m = len(target)\n",
    "    \n",
    "    # Create the distance matrix D\n",
    "    D = [[0] * (m + 1) for _ in range(n + 1)]\n",
    "    \n",
    "    # initialization the zeroth row and column is the distance from the empty string\n",
    "    for i in range(1, n + 1):\n",
    "        D[i][0] = D[i - 1][0] + del_cost(source[i - 1])\n",
    "    for j in range(1, m + 1):\n",
    "        D[0][j] = D[0][j - 1] + ins_cost(target[j - 1])\n",
    "    \n",
    "    # recurrence relation:\n",
    "    for i in range(1, n + 1):\n",
    "        for j in range(1, m + 1):\n",
    "            deletion = D[i - 1][j] + del_cost(source[i - 1])\n",
    "            insertion = D[i][j - 1] + ins_cost(target[j - 1])\n",
    "            substitution = D[i - 1][j - 1] + sub_cost(source[i - 1], target[j - 1])\n",
    "            D[i][j] = min(deletion, insertion, substitution)\n",
    "    \n",
    "    # Termination\n",
    "    return D[n][m]\n",
    "\n",
    "def del_cost(char):\n",
    "    return 1  # Cost of deletion\n",
    "\n",
    "def ins_cost(char):\n",
    "    return 1  # Cost of insertion\n",
    "\n",
    "def sub_cost(s_char, t_char):\n",
    "    if s_char == t_char:\n",
    "        return 0  # No cost if characters are the same\n",
    "    else:\n",
    "        return keyboard_substitution_cost(s_char, t_char)  # Cost of substitution"
   ]
  },
  {
   "cell_type": "code",
   "execution_count": 12,
   "id": "8a0cf662-7969-4bc5-9cc6-3d3f3a51abe7",
   "metadata": {
    "tags": []
   },
   "outputs": [
    {
     "name": "stdout",
     "output_type": "stream",
     "text": [
      "Minimum edit distance: 1\n"
     ]
    }
   ],
   "source": [
    "source = \"caft\"\n",
    "target = \"cat\"\n",
    "distance = min_edit_distance(source, target, del_cost, ins_cost, sub_cost)\n",
    "print(f\"Minimum edit distance: {distance}\")"
   ]
  },
  {
   "cell_type": "code",
   "execution_count": 13,
   "id": "a620a71a-c9ca-4e14-a356-1bc424e13324",
   "metadata": {
    "tags": []
   },
   "outputs": [
    {
     "name": "stdout",
     "output_type": "stream",
     "text": [
      "Minimum edit distance: 4\n"
     ]
    }
   ],
   "source": [
    "source = \"voffrt\"\n",
    "target = \"coffee\"\n",
    "distance = min_edit_distance(source, target, del_cost, ins_cost, sub_cost)\n",
    "print(f\"Minimum edit distance: {distance}\")"
   ]
  }
 ],
 "metadata": {
  "kernelspec": {
   "display_name": "Python 3 (ipykernel)",
   "language": "python",
   "name": "python3"
  },
  "language_info": {
   "codemirror_mode": {
    "name": "ipython",
    "version": 3
   },
   "file_extension": ".py",
   "mimetype": "text/x-python",
   "name": "python",
   "nbconvert_exporter": "python",
   "pygments_lexer": "ipython3",
   "version": "3.11.5"
  }
 },
 "nbformat": 4,
 "nbformat_minor": 5
}
